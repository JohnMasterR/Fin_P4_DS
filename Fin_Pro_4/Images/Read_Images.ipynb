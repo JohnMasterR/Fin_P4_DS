{
 "cells": [
  {
   "cell_type": "code",
   "execution_count": 1,
   "id": "1ba66781",
   "metadata": {},
   "outputs": [],
   "source": [
    "from PIL import Image\n",
    "\n",
    "import matplotlib.pyplot as plt\n",
    "import numpy as np\n",
    "import pandas as pd\n",
    "import glob"
   ]
  },
  {
   "cell_type": "code",
   "execution_count": 11,
   "id": "b92bc5ac",
   "metadata": {},
   "outputs": [],
   "source": [
    "#-- Classification classes:\n",
    "# C0 for events in standard model\n",
    "# C1 for events of new physics\n",
    "\n",
    "#-- Filenames for 0 class (background noise as physics from standard model):\n",
    "#-- Process: tth, tttt, ttbb/h\n",
    "#-- 'bkg1.csv', 'bkg2.csv', 'bkg3.csv'\n",
    "\n",
    "#-- Filenames for 1 class (positive signal as physics beyond standard model):\n",
    "#-- Process: M(z')=250 GeV, M(z')=350 GeV, M(z')=1000 GeV\n",
    "#-- 'signal250.csv', 'signal350.csv', 'signal1000.csv'\n",
    "\n",
    "#-- Folder for images:\n",
    "#-- 'C0_bkg1/', 'C0_bkg2/', 'C0_bkg3/' -> Class 0\n",
    "#-- 'C1_signal250/', 'C1_signal350/', 'C1_signal1000/', 'C1_signal3000/'' -> Class 1\n",
    "\n",
    "#-- Data sources:\n",
    "fname_C0 = 'bkg3'\n",
    "fname_C1 = 'signal1000'\n",
    "folder_C0 = 'C0_'+fname_C0+'/'\n",
    "folder_C1 = 'C1_'+fname_C1+'/'\n",
    "\n",
    "#-- Name for images:\n",
    "figname_C0 = 'C0_'+fname_C0\n",
    "figname_C1 = 'C1_'+fname_C1\n",
    "\n",
    "#-- Counts total images in each folder as a total number of events for analysis (for each class 0 or 1):\n",
    "Tot_Events = len(glob.glob1(folder_C0, '*.png'))\n",
    "\n",
    "#-- Convert image to a gray-scale (This allows put one value for each pixel in image):\n",
    "format_fig = 'RGBA'"
   ]
  },
  {
   "cell_type": "code",
   "execution_count": 12,
   "id": "3868c0b5",
   "metadata": {},
   "outputs": [],
   "source": [
    "#-- Convert image to 1D array\n",
    "def convert_to_array_image(filename, format_fig):\n",
    "    Pic = Image.open(filename).convert(format_fig)\n",
    "    image_sequence = Pic.getdata()\n",
    "    Pic.close()\n",
    "    return np.array(image_sequence), Pic.size, list(Pic.mode)\n",
    "\n",
    "#-- Creates 1D array value-image for analysis:\n",
    "def Image_array(fig_name_C0, format_fig):\n",
    "    #-- Use I = 0.299R + 0.587G + 0.114B to gets single values per pixel\n",
    "    Dat = []\n",
    "    Pic, Pic_size, color_mode = convert_to_array_image(fig_name_C0, format_fig)\n",
    "    data = pd.DataFrame(Pic, columns=color_mode)\n",
    "    width = Pic_size[0]\n",
    "    height = Pic_size[1]\n",
    "    dpi = Pic_size[0]/5 # (= Pic_size[1]/3)\n",
    "    for i in range(3): # i runs for pT, phi and eta.\n",
    "        for j in range(5): # j runs for bjets0, bjets1, jets0, jets1 and leptons.\n",
    "            l = int(dpi*(width*i+j))\n",
    "            R = data.iloc[l,0]\n",
    "            G = data.iloc[l,1]\n",
    "            B = data.iloc[l,2]\n",
    "            I = 0.299*R + 0.587*G + 0.114*B\n",
    "            Dat.append(I)\n",
    "    return np.array(Dat)"
   ]
  },
  {
   "cell_type": "code",
   "execution_count": 13,
   "id": "8af10365",
   "metadata": {},
   "outputs": [],
   "source": [
    "#-- Stock data for each folder of images:\n",
    "\n",
    "datbkg = pd.DataFrame()\n",
    "datsgn = pd.DataFrame()\n",
    "targetbkg = []\n",
    "targetsgn = []\n",
    "for Event in range(Tot_Events):\n",
    "    fig_name_C0 = folder_C0+figname_C0+'_Event_'+str(Event+1)+'.png' # Class 0 files\n",
    "    fig_name_C1 = folder_C1+figname_C1+'_Event_'+str(Event+1)+'.png' # Class 1 files\n",
    "    DT_C0 = Image_array(fig_name_C0, format_fig)\n",
    "    C0 = pd.DataFrame([DT_C0])\n",
    "    datbkg = pd.concat([datbkg, C0], ignore_index=True)\n",
    "    targetbkg.append(0)\n",
    "    DT_C1 = Image_array(fig_name_C1, format_fig)\n",
    "    C1 = pd.DataFrame([DT_C1])\n",
    "    datsgn = pd.concat([datsgn, C1], ignore_index=True)\n",
    "    targetsgn.append(1)\n",
    "\n",
    "tags_bkg = pd.DataFrame(targetbkg, columns=['Targets'])\n",
    "datbkg = pd.concat([datbkg, tags_bkg], axis=1)\n",
    "\n",
    "tags_sgn = pd.DataFrame(targetsgn, columns=['Targets'])\n",
    "datsgn = pd.concat([datsgn, tags_sgn], axis=1)\n",
    "\n",
    "datbkg.to_csv(fname_C0+'_img_dat.csv')\n",
    "datsgn.to_csv(fname_C1+'_img_dat.csv')"
   ]
  },
  {
   "cell_type": "code",
   "execution_count": null,
   "id": "ee42aab8",
   "metadata": {},
   "outputs": [],
   "source": []
  }
 ],
 "metadata": {
  "kernelspec": {
   "display_name": "Python 3 (ipykernel)",
   "language": "python",
   "name": "python3"
  },
  "language_info": {
   "codemirror_mode": {
    "name": "ipython",
    "version": 3
   },
   "file_extension": ".py",
   "mimetype": "text/x-python",
   "name": "python",
   "nbconvert_exporter": "python",
   "pygments_lexer": "ipython3",
   "version": "3.8.10"
  }
 },
 "nbformat": 4,
 "nbformat_minor": 5
}
